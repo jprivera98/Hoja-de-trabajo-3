{
 "cells": [
  {
   "cell_type": "markdown",
   "metadata": {},
   "source": [
    "## Cree un procedimiento en Python dado un numero entero en decimal despliegue su representacion en numero binario."
   ]
  },
  {
   "cell_type": "code",
   "execution_count": null,
   "metadata": {},
   "outputs": [
    {
     "name": "stdout",
     "output_type": "stream",
     "text": [
      "El número 25 en binario es: 11001\n"
     ]
    }
   ],
   "source": [
    "def decimal_a_binario(n):\n",
    "    if n == 0:\n",
    "        return \"0\"\n",
    "    binario = \"\"\n",
    "    while n > 0:\n",
    "        binario = str(n % 2) + binario  # Acumula los residuos\n",
    "        n = n // 2  # Divide el número entre 2\n",
    "    return binario\n",
    "\n",
    "# Forma de uso del codigo \n",
    "numero = int(input(\"Ingrese un número entero: \"))\n",
    "print(f\"El número {numero} en binario es: {decimal_a_binario(numero)}\")"
   ]
  },
  {
   "cell_type": "markdown",
   "metadata": {},
   "source": [
    "## Desarrolle en Python una funcion que devuelva verdadero si un n umero entero que recibe como parametro es primo y devuelva falso en el caso contrario."
   ]
  },
  {
   "cell_type": "code",
   "execution_count": null,
   "metadata": {},
   "outputs": [
    {
     "name": "stdout",
     "output_type": "stream",
     "text": [
      "¿El número 1 es primo? Falso\n"
     ]
    }
   ],
   "source": [
    "# Paso 1: Definimos una función para verificar si un número es primo\n",
    "def es_primo(n):\n",
    "    # Paso 2: Si el número es menor o igual a 1, no es primo\n",
    "    if n <= 1:\n",
    "        return False\n",
    "    \n",
    "    # Paso 3: Verificamos si el número tiene divisores\n",
    "    for i in range(2, int(n**0.5) + 1):\n",
    "        # Paso 4: Si el número es divisible por \"i\", no es primo\n",
    "        if n % i == 0:\n",
    "            return False\n",
    "    \n",
    "    # Paso 5: Si no encontramos divisores, el número es primo\n",
    "    return True\n",
    "\n",
    "# Paso 6: Pedimos al usuario que ingrese un número\n",
    "numero = int(input(\"Ingrese un número entero: \"))\n",
    "\n",
    "# Paso 7: Verificamos si el número es primo y mostramos el resultado\n",
    "if es_primo(numero):\n",
    "    print(f\"¿El número {numero} es primo? Verdadero\")\n",
    "else:\n",
    "    print(f\"¿El número {numero} es primo? Falso\")"
   ]
  },
  {
   "cell_type": "markdown",
   "metadata": {},
   "source": [
    "##  Haga un programa en Python que dada una lista de n n umeros, calcule la desviacion estandar del conjunto de numeros, para este ejercicio no puede utilizar ninguna funcion que resuelva el problema."
   ]
  },
  {
   "cell_type": "code",
   "execution_count": null,
   "metadata": {},
   "outputs": [
    {
     "name": "stdout",
     "output_type": "stream",
     "text": [
      "Ingrese los números de la lista uno por uno. Escriba 'fin' para terminar.\n",
      "La desviación estándar es: 2.160246899469287\n"
     ]
    }
   ],
   "source": [
    "# Paso 1: Función para calcular la media de la lista de numeros \n",
    "def calcular_media(lista):\n",
    "    suma = sum(lista)  # Sumamos todos los números de la lista\n",
    "    n = len(lista)     # Contamos los números hay en la lista\n",
    "    media = suma / n   # Dividimos la suma entre el número de elementos\n",
    "    return media       # Retornamos la media\n",
    "\n",
    "# Paso 2: Función para estimar la desviación estándar\n",
    "def calcular_desviacion_estandar(lista):\n",
    "    n = len(lista)  # Contamos cuántos números hay en la lista\n",
    "    media = calcular_media(lista)  # Calculamos la media \n",
    "    \n",
    "    # Paso 3: Calculamos la suma de los cuadrados de las diferencias\n",
    "    suma_cuadrados = 0  # Inicializamos una variable para acumular la suma\n",
    "    for x in lista:     # Recorremos cada número en la lista\n",
    "        diferencia = x - media  # Calculamos la diferencia entre el número y la media\n",
    "        cuadrado = diferencia ** 2  # Elevamos la diferencia al cuadrado\n",
    "        suma_cuadrados += cuadrado  # Sumamos el cuadrado a la variable\n",
    "    \n",
    "    # Paso 4: Calculamos la varianza muestral\n",
    "    varianza = suma_cuadrados / (n - 1)  # Dividimos la suma de cuadrados entre (n - 1)\n",
    "    \n",
    "    # Paso 5: Calculamos la desviación estándar\n",
    "    desviacion_estandar = varianza ** 0.5  # Raíz cuadrada de la varianza\n",
    "    \n",
    "    return desviacion_estandar  # Retornamos la desviación estándar\n",
    "\n",
    "# Paso 6: Solicitar al usuario que ingrese una lista de números\n",
    "def solicitar_lista():\n",
    "    lista = []  # Inicializamos una lista vacía\n",
    "    print(\"Ingrese los números de la lista uno por uno. Escriba 'fin' para terminar.\")\n",
    "    while True:\n",
    "        entrada = input(\"Ingrese un número (o 'fin' para terminar): \")\n",
    "        if entrada.lower() == 'fin':  # Si el usuario escribe 'fin', terminamos\n",
    "            break\n",
    "        try:\n",
    "            numero = float(entrada)  # Convertimos la entrada a un número\n",
    "            lista.append(numero)     # Agregamos el número a la lista\n",
    "        except ValueError:\n",
    "            print(\"Entrada inválida. Por favor, ingrese un número válido.\")\n",
    "    return lista\n",
    "\n",
    "# Paso 7: Ejecutar el programa\n",
    "if __name__ == \"__main__\":\n",
    "    lista = solicitar_lista()  # Solicitamos la lista al usuario\n",
    "    if lista:  # Si la lista no está vacía\n",
    "        resultado = calcular_desviacion_estandar(lista)  # Calculamos la desviación estándar\n",
    "        print(f\"La desviación estándar es: {resultado}\")\n",
    "    else:\n",
    "        print(\"No se ingresaron números válidos.\")"
   ]
  },
  {
   "cell_type": "markdown",
   "metadata": {},
   "source": [
    "## Desarrolle en Python una funcion que dado un arreglo de corra el algoritmo de ordenamiento burbuja y devuelva un nuevo arreglo ordenado. Posteriormente cree una funcion main para probar su funcion."
   ]
  },
  {
   "cell_type": "code",
   "execution_count": null,
   "metadata": {},
   "outputs": [
    {
     "name": "stdout",
     "output_type": "stream",
     "text": [
      "Ingrese los números de la lista uno por uno. Escriba 'fin' para terminar.\n",
      "\n",
      "Lista original: [64.0, 34.0, 25.0, 12.0, 22.0, 11.0, 90.0]\n",
      "Lista ordenada: [11.0, 12.0, 22.0, 25.0, 34.0, 64.0, 90.0]\n"
     ]
    }
   ],
   "source": [
    "# Función para ordenar una serie de numero utilizando  el algoritmo burbuja\n",
    "def burbuja(lista):\n",
    "    lista_ordenada = lista.copy()  # Copiamos la lista sin modificar la orginal \n",
    "    n = len(lista_ordenada)       # Longitud de la lista\n",
    "\n",
    "    # Recorremos la lista n veces\n",
    "    for i in range(n):\n",
    "        # Comparamos cada par de elementos \n",
    "        for j in range(0, n - i - 1):\n",
    "            # Si el elemento actual es mayor que el siguiente, los intercambiamos\n",
    "            if lista_ordenada[j] > lista_ordenada[j + 1]:\n",
    "                lista_ordenada[j], lista_ordenada[j + 1] = lista_ordenada[j + 1], lista_ordenada[j]\n",
    "    \n",
    "    return lista_ordenada  # Devolvemos una la lista ordenada\n",
    "\n",
    "# Solicitamos una lista de números al usuario\n",
    "def solicitar_lista():\n",
    "    lista = []  # Inicializamos una lista vacía\n",
    "    print(\"Ingrese los números de la lista uno por uno. Escriba 'fin' para terminar.\")\n",
    "    while True:\n",
    "        entrada = input(\"Ingrese un número (o 'fin' para terminar): \")\n",
    "        if entrada.lower() == 'fin':  # Si el usuario escribe 'fin', terminamos\n",
    "            break\n",
    "        try:\n",
    "            numero = float(entrada)  # Convertimos la entrada a un número\n",
    "            lista.append(numero)     # Agregamos el número a la lista\n",
    "        except ValueError:\n",
    "            print(\"Entrada inválida. Por favor, ingrese un número válido.\")\n",
    "    return lista\n",
    "\n",
    "# Probar el algoritmo burbuja\n",
    "def main():\n",
    "    # Solicitar la lista de números al usuario\n",
    "    lista = solicitar_lista()\n",
    "    \n",
    "    # Verificar si la lista no está vacía\n",
    "    if lista:\n",
    "        print(\"\\nLista original:\", lista)\n",
    "        print(\"Lista ordenada:\", burbuja(lista))\n",
    "    else:\n",
    "        print(\"No se ingresaron números válidos.\")\n",
    "\n",
    "# Ejecutar la función main\n",
    "if __name__ == \"__main__\":\n",
    "    main()"
   ]
  },
  {
   "cell_type": "markdown",
   "metadata": {},
   "source": [
    "## Escriba una funcion en Python que dada una tupla de elementos (numeros o letras) esta se convierta a un string. Tomar nota del siguiente ejemplo:Si la entrada fuera: (10, 20, 40, 5, 70); La salida deber  a ser: 102040570"
   ]
  },
  {
   "cell_type": "code",
   "execution_count": 16,
   "metadata": {},
   "outputs": [
    {
     "name": "stdout",
     "output_type": "stream",
     "text": [
      "Ingrese los elementos de la tupla uno por uno. Escriba 'fin' para terminar.\n",
      "\n",
      "Tupla ingresada: ('10', '20', '40', '5', '70')\n",
      "String resultante: 102040570\n"
     ]
    }
   ],
   "source": [
    "# Función que convierte una tupla de elementos en un string\n",
    "def tupla_a_string(tupla):\n",
    "    # Paso 1: Convertir cada elemento de la tupla a string\n",
    "    elementos_como_string = [str(elemento) for elemento in tupla]\n",
    "    \n",
    "    # Paso 2: Unir todos los elementos en un solo string\n",
    "    resultado = ''.join(elementos_como_string)\n",
    "    \n",
    "    # Paso 3: Retornar el resultado\n",
    "    return resultado\n",
    "\n",
    "# Función para solicitar los elementos de la tupla al usuario\n",
    "def solicitar_elementos():\n",
    "    elementos = []  # Inicializamos una lista vacía para almacenar los elementos\n",
    "    print(\"Ingrese los elementos de la tupla uno por uno. Escriba 'fin' para terminar.\")\n",
    "    while True:\n",
    "        entrada = input(\"Ingrese un elemento (o 'fin' para terminar): \")\n",
    "        if entrada.lower() == 'fin':  # Si el usuario escribe 'fin', terminamos\n",
    "            break\n",
    "        elementos.append(entrada)  # Agregamos el elemento a la lista\n",
    "    return tuple(elementos)  # Convertimos la lista a una tupla y la retornamos\n",
    "\n",
    "# Función principal para probar el código\n",
    "def main():\n",
    "    # Solicitar los elementos de la tupla al usuario\n",
    "    tupla = solicitar_elementos()\n",
    "    \n",
    "    # Verificar si la tupla no está vacía\n",
    "    if tupla:\n",
    "        print(\"\\nTupla ingresada:\", tupla)\n",
    "        print(\"String resultante:\", tupla_a_string(tupla))\n",
    "    else:\n",
    "        print(\"No se ingresaron elementos válidos.\")\n",
    "\n",
    "# Ejecutar la función main\n",
    "if __name__ == \"__main__\":\n",
    "    main()"
   ]
  },
  {
   "cell_type": "markdown",
   "metadata": {},
   "source": [
    "## Cree una funci on en Python que dada una tupla de tuplas con numeros, produzca una tupla\n",
    "## con el promedio de cada tupla individual. Tomar nota del siguiente ejemplo:\n",
    "## Si la tupla de entrada fuera: ((10, 10, 10, 12), (30, 45, 56, 45), (81, 80, 39, 32))\n",
    "## El resultado deber  a ser: (10.5, 44, 58)"
   ]
  },
  {
   "cell_type": "code",
   "execution_count": 17,
   "metadata": {},
   "outputs": [
    {
     "name": "stdout",
     "output_type": "stream",
     "text": [
      "Ingrese las tuplas una por una. Escriba 'fin' para terminar.\n",
      "Entrada inválida. Por favor, ingrese una tupla.\n",
      "\n",
      "Lista original: [(), (), ('X',), ('a', 'b'), ('a', 'b', 'c')]\n",
      "Lista sin tuplas vacías: [('X',), ('a', 'b'), ('a', 'b', 'c')]\n"
     ]
    }
   ],
   "source": [
    "# Función para eliminar tuplas vacías de una lista\n",
    "def eliminar_tuplas_vacias(lista):\n",
    "    # Paso 1: Filtrar las tuplas que no están vacías\n",
    "    lista_filtrada = [tupla for tupla in lista if tupla]\n",
    "    \n",
    "    # Paso 2: Retornar la lista filtrada\n",
    "    return lista_filtrada\n",
    "\n",
    "# Función para solicitar la lista de tuplas al usuario\n",
    "def solicitar_lista_tuplas():\n",
    "    lista = []  # Inicializamos una lista vacía para almacenar las tuplas\n",
    "    print(\"Ingrese las tuplas una por una. Escriba 'fin' para terminar.\")\n",
    "    while True:\n",
    "        entrada = input(\"Ingrese una tupla (ejemplo: (1, 2) o 'fin' para terminar): \")\n",
    "        if entrada.lower() == 'fin':  # Si el usuario escribe 'fin', terminamos\n",
    "            break\n",
    "        try:\n",
    "            # Convertir la entrada en una tupla\n",
    "            tupla = eval(entrada)\n",
    "            if isinstance(tupla, tuple):  # Verificar que sea una tupla\n",
    "                lista.append(tupla)\n",
    "            else:\n",
    "                print(\"Entrada inválida. Por favor, ingrese una tupla.\")\n",
    "        except:\n",
    "            print(\"Entrada inválida. Por favor, ingrese una tupla válida.\")\n",
    "    return lista\n",
    "\n",
    "# Función principal para probar el código\n",
    "def main():\n",
    "    # Solicitar la lista de tuplas al usuario\n",
    "    lista_tuplas = solicitar_lista_tuplas()\n",
    "    \n",
    "    # Verificar si la lista no está vacía\n",
    "    if lista_tuplas:\n",
    "        print(\"\\nLista original:\", lista_tuplas)\n",
    "        print(\"Lista sin tuplas vacías:\", eliminar_tuplas_vacias(lista_tuplas))\n",
    "    else:\n",
    "        print(\"No se ingresaron tuplas válidas.\")\n",
    "\n",
    "# Ejecutar la función main\n",
    "if __name__ == \"__main__\":\n",
    "    main()"
   ]
  },
  {
   "cell_type": "markdown",
   "metadata": {},
   "source": [
    "## Cree una funci on en Python que dada una tupla de tuplas con numeros, produzca una tupla\n",
    "## con el promedio de cada tupla individual. Tomar nota del siguiente ejemplo:\n",
    "## Si la tupla de entrada fuera: ((10, 10, 10, 12), (30, 45, 56, 45), (81, 80, 39, 32))\n",
    "## El resultado deber  a ser: (10.5, 44, 58)"
   ]
  },
  {
   "cell_type": "code",
   "execution_count": 19,
   "metadata": {},
   "outputs": [
    {
     "name": "stdout",
     "output_type": "stream",
     "text": [
      "Ingrese las tuplas una por una. Escriba 'fin' para terminar.\n",
      "\n",
      "Tupla de tuplas ingresada: ((10, 10, 10, 12), (30, 45, 56, 45), (81, 80, 39, 32))\n",
      "Promedios de cada tupla: (10.5, 44.0, 58.0)\n"
     ]
    }
   ],
   "source": [
    "# Función para calcular el promedio de cada tupla en una tupla de tuplas\n",
    "def promedios_tuplas(tupla_de_tuplas):\n",
    "    # Paso 1: Crear una lista para almacenar los promedios\n",
    "    promedios = []\n",
    "    \n",
    "    # Paso 2: Recorrer cada tupla en la tupla de tuplas\n",
    "    for tupla in tupla_de_tuplas:\n",
    "        # Paso 3: Calcular el promedio de la tupla actual\n",
    "        promedio = sum(tupla) / len(tupla)\n",
    "        \n",
    "        # Paso 4: Agregar el promedio a la lista de promedios\n",
    "        promedios.append(promedio)\n",
    "    \n",
    "    # Paso 5: Convertir la lista de promedios a una tupla y retornarla\n",
    "    return tuple(promedios)\n",
    "\n",
    "# Función para solicitar la tupla de tuplas al usuario\n",
    "def solicitar_tupla_de_tuplas():\n",
    "    tuplas = []  # Inicializamos una lista vacía para almacenar las tuplas\n",
    "    print(\"Ingrese las tuplas una por una. Escriba 'fin' para terminar.\")\n",
    "    while True:\n",
    "        entrada = input(\"Ingrese una tupla de números (ejemplo: (10, 20, 30) o 'fin' para terminar): \")\n",
    "        if entrada.lower() == 'fin':  # Si el usuario escribe 'fin', terminamos\n",
    "            break\n",
    "        try:\n",
    "            # Convertir la entrada en una tupla de números\n",
    "            tupla = eval(entrada)\n",
    "            if isinstance(tupla, tuple):  # Verificar que sea una tupla\n",
    "                tuplas.append(tupla)\n",
    "            else:\n",
    "                print(\"Entrada inválida. Por favor, ingrese una tupla de números.\")\n",
    "        except:\n",
    "            print(\"Entrada inválida. Por favor, ingrese una tupla de números válida.\")\n",
    "    return tuple(tuplas)  # Convertimos la lista de tuplas a una tupla y la retornamos\n",
    "\n",
    "# Función principal para probar el código\n",
    "def main():\n",
    "    # Solicitar la tupla de tuplas al usuario\n",
    "    tupla_de_tuplas = solicitar_tupla_de_tuplas()\n",
    "    \n",
    "    # Verificar si la tupla de tuplas no está vacía\n",
    "    if tupla_de_tuplas:\n",
    "        print(\"\\nTupla de tuplas ingresada:\", tupla_de_tuplas)\n",
    "        print(\"Promedios de cada tupla:\", promedios_tuplas(tupla_de_tuplas))\n",
    "    else:\n",
    "        print(\"No se ingresaron tuplas válidas.\")\n",
    "\n",
    "# Ejecutar la función main\n",
    "if __name__ == \"__main__\":\n",
    "    main()"
   ]
  },
  {
   "cell_type": "markdown",
   "metadata": {},
   "source": [
    "## El objetivo es crear una representaci on de un libro usando programaci on orientada a objetos.\n",
    "## Debes de nir una clase llamada Libro que tenga atributos como el titulo, el autor, el n umero\n",
    "## de p aginas y un indicador de si el libro ha sido le  do o no. Adem as, debes implementar m etodos\n",
    "# para:\n",
    "# Inicializar un nuevo libro con su informaci on.\n",
    "# Marcar un libro como le  do.\n",
    "# Producir una descripci on legible del libro que incluya todos sus detalles."
   ]
  },
  {
   "cell_type": "code",
   "execution_count": 21,
   "metadata": {},
   "outputs": [
    {
     "name": "stdout",
     "output_type": "stream",
     "text": [
      "Ingrese los datos del libro:\n",
      "\n",
      "Descripción del libro:\n",
      "Libro: Curso de Mareketing Digital , Autor: Miguel Florido , Páginas: 322, Estado: no leído\n",
      "\n",
      "El libro ha sido marcado como leído.\n",
      "\n",
      "Descripción actualizada del libro:\n",
      "Libro: Curso de Mareketing Digital , Autor: Miguel Florido , Páginas: 322, Estado: leído\n"
     ]
    }
   ],
   "source": [
    "# Definición de la clase Libro\n",
    "class Libro:\n",
    "    # Método constructor para inicializar los atributos\n",
    "    def __init__(self, titulo, autor, num_paginas, leido=False):\n",
    "        self.titulo = titulo          # Título del libro\n",
    "        self.autor = autor            # Autor del libro\n",
    "        self.num_paginas = num_paginas  # Número de páginas del libro\n",
    "        self.leido = leido            # Estado de lectura (por defecto False)\n",
    "\n",
    "    # Método para marcar el libro como leído\n",
    "    def marcar_leido(self):\n",
    "        self.leido = True  # Cambiamos el estado de leido a True\n",
    "\n",
    "    # Método para obtener una descripción del libro\n",
    "    def descripcion(self):\n",
    "        estado = \"leído\" if self.leido else \"no leído\"  # Verificamos si el libro está leído\n",
    "        return f\"Libro: {self.titulo}, Autor: {self.autor}, Páginas: {self.num_paginas}, Estado: {estado}\"\n",
    "\n",
    "# Función para solicitar los datos del libro al usuario\n",
    "def solicitar_datos_libro():\n",
    "    print(\"Ingrese los datos del libro:\")\n",
    "    titulo = input(\"Título: \")  # Solicitar el título del libro\n",
    "    autor = input(\"Autor: \")    # Solicitar el autor del libro\n",
    "    num_paginas = int(input(\"Número de páginas: \"))  # Solicitar el número de páginas\n",
    "    return titulo, autor, num_paginas  # Retornar los datos ingresados\n",
    "\n",
    "# Función principal para probar el código\n",
    "def main():\n",
    "    # Solicitar los datos del libro al usuario\n",
    "    titulo, autor, num_paginas = solicitar_datos_libro()\n",
    "    \n",
    "    # Crear un objeto de la clase Libro con los datos ingresados\n",
    "    libro = Libro(titulo, autor, num_paginas)\n",
    "    \n",
    "    # Mostrar la descripción del libro\n",
    "    print(\"\\nDescripción del libro:\")\n",
    "    print(libro.descripcion())\n",
    "    \n",
    "    # Preguntar al usuario si desea marcar el libro como leído\n",
    "    marcar = input(\"\\n¿Desea marcar el libro como leído? (sí/no): \").lower()\n",
    "    if marcar == \"sí\" or marcar == \"si\":\n",
    "        libro.marcar_leido()\n",
    "        print(\"\\nEl libro ha sido marcado como leído.\")\n",
    "    \n",
    "    # Mostrar la descripción actualizada del libro\n",
    "    print(\"\\nDescripción actualizada del libro:\")\n",
    "    print(libro.descripcion())\n",
    "\n",
    "# Ejecutar la función main\n",
    "if __name__ == \"__main__\":\n",
    "    main()"
   ]
  },
  {
   "cell_type": "markdown",
   "metadata": {},
   "source": [
    "## Cree una clase llamada Circulo con un atributo para el radio del c  rculo. Luego, implementar as\n",
    "## metodos para:\n",
    "# Inicializar un nuevo circulo con su radio.\n",
    "# Calcular el  area del circulo.\n",
    "# Calcular la circunferencia del circulo."
   ]
  },
  {
   "cell_type": "code",
   "execution_count": 23,
   "metadata": {},
   "outputs": [
    {
     "name": "stdout",
     "output_type": "stream",
     "text": [
      "\n",
      "Información del círculo:\n",
      "Circulo de radio 5.00 - Área: 78.54, Circunferencia: 31.42\n"
     ]
    }
   ],
   "source": [
    "import math  # Importamos el módulo math para usar el valor de π\n",
    "\n",
    "class Circulo:\n",
    "    # Método constructor para inicializar el radio del círculo\n",
    "    def __init__(self, radio: float):\n",
    "        # Validamos que el radio sea un número positivo mayor que cero\n",
    "        if radio <= 0:\n",
    "            raise ValueError(\"El radio debe ser un número positivo mayor que cero.\")\n",
    "        self.radio = radio  # Asignamos el radio si es válido\n",
    "\n",
    "    # Método para calcular el área del círculo\n",
    "    def area(self) -> float:\n",
    "        return math.pi * (self.radio ** 2)  # Fórmula del área: π * radio^2\n",
    "\n",
    "    # Método para calcular la circunferencia del círculo\n",
    "    def circunferencia(self) -> float:\n",
    "        return 2 * math.pi * self.radio  # Fórmula de la circunferencia: 2 * π * radio\n",
    "\n",
    "    # Método para devolver una representación legible del círculo\n",
    "    def __str__(self) -> str:\n",
    "        return f\"Circulo de radio {self.radio:.2f} - Área: {self.area():.2f}, Circunferencia: {self.circunferencia():.2f}\"\n",
    "\n",
    "# Función para solicitar el radio al usuario\n",
    "def solicitar_radio():\n",
    "    while True:\n",
    "        try:\n",
    "            radio = float(input(\"Ingrese el radio del círculo (debe ser un número positivo): \"))\n",
    "            if radio > 0:\n",
    "                return radio\n",
    "            else:\n",
    "                print(\"El radio debe ser un número positivo mayor que cero. Intente de nuevo.\")\n",
    "        except ValueError:\n",
    "            print(\"Entrada inválida. Por favor, ingrese un número válido.\")\n",
    "\n",
    "# Función principal para probar la clase\n",
    "def main():\n",
    "    # Solicitar el radio al usuario\n",
    "    radio = solicitar_radio()\n",
    "    \n",
    "    try:\n",
    "        # Crear un objeto de la clase Circulo con el radio ingresado\n",
    "        circulo = Circulo(radio)\n",
    "        \n",
    "        # Mostrar la información del círculo\n",
    "        print(\"\\nInformación del círculo:\")\n",
    "        print(circulo)\n",
    "    except ValueError as e:\n",
    "        print(\"Error:\", e)\n",
    "\n",
    "# Ejecutar la función main\n",
    "if __name__ == \"__main__\":\n",
    "    main()"
   ]
  }
 ],
 "metadata": {
  "kernelspec": {
   "display_name": "venv_ugal_test",
   "language": "python",
   "name": "python3"
  },
  "language_info": {
   "codemirror_mode": {
    "name": "ipython",
    "version": 3
   },
   "file_extension": ".py",
   "mimetype": "text/x-python",
   "name": "python",
   "nbconvert_exporter": "python",
   "pygments_lexer": "ipython3",
   "version": "3.12.9"
  }
 },
 "nbformat": 4,
 "nbformat_minor": 2
}
